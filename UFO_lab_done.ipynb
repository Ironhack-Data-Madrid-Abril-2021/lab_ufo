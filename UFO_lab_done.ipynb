{
 "cells": [
  {
   "cell_type": "markdown",
   "id": "cb7dfc11",
   "metadata": {},
   "source": [
    "UFO Question\n",
    "Our data science team has predicted that the Earth is going to be invaded by an alien force in the next years. Our only hope is to replicate a device that can block all alien technology in a radius of ~300km. Sadly, the device was sold in 2004 to an anonymous buyer to protect her hometown and we don't know how contact her again. We know that the device has been active since 2004 in one city in the USA, and we want to know where to start our search. We've included a dataset called ​ufo.csv​. This dataset contains over 80,000 reports of UFO sightings over the last century (all of them verified by the ESA). Using this dataset, try to guess the city in which the device has been hidden."
   ]
  },
  {
   "cell_type": "code",
   "execution_count": null,
   "id": "8f066f22",
   "metadata": {},
   "outputs": [],
   "source": [
    "!pip install folium"
   ]
  },
  {
   "cell_type": "code",
   "execution_count": null,
   "id": "6bf9744b",
   "metadata": {},
   "outputs": [],
   "source": [
    "!pip install keplergl"
   ]
  },
  {
   "cell_type": "code",
   "execution_count": null,
   "id": "cb9e6184",
   "metadata": {},
   "outputs": [],
   "source": [
    "# Import libraries\n",
    "import folium\n",
    "import pandas as pd\n",
    "import folium.plugins"
   ]
  },
  {
   "cell_type": "code",
   "execution_count": null,
   "id": "0a6b1e4c",
   "metadata": {},
   "outputs": [],
   "source": [
    "#import data\n",
    "df = pd.read_csv('ufo.csv')"
   ]
  },
  {
   "cell_type": "code",
   "execution_count": null,
   "id": "721c2ddd",
   "metadata": {},
   "outputs": [],
   "source": [
    "# Select data\n",
    "select=df[(df[\"country\"]==\"us\") & (df[\"year\"] >= 2004)]"
   ]
  },
  {
   "cell_type": "code",
   "execution_count": null,
   "id": "65f0782a",
   "metadata": {},
   "outputs": [],
   "source": [
    "# Create a map\n",
    "mapping =folium.Map([40.732029, -73.988129], zoom_start=11)"
   ]
  },
  {
   "cell_type": "code",
   "execution_count": null,
   "id": "f9b939bc",
   "metadata": {},
   "outputs": [],
   "source": [
    "# Find the city\n",
    "cites_find = select[['latitude', 'longitude']].values\n",
    "mapa.add_child(folium.plugins.HeatMap(cites, radius=15))\n",
    "mapa"
   ]
  }
 ],
 "metadata": {
  "kernelspec": {
   "display_name": "clase",
   "language": "python",
   "name": "clase"
  },
  "language_info": {
   "codemirror_mode": {
    "name": "ipython",
    "version": 3
   },
   "file_extension": ".py",
   "mimetype": "text/x-python",
   "name": "python",
   "nbconvert_exporter": "python",
   "pygments_lexer": "ipython3",
   "version": "3.8.8"
  }
 },
 "nbformat": 4,
 "nbformat_minor": 5
}
